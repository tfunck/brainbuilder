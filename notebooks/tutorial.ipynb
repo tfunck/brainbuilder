{
 "cells": [
  {
   "cell_type": "code",
   "execution_count": 1,
   "metadata": {},
   "outputs": [
    {
     "name": "stdout",
     "output_type": "stream",
     "text": [
      "Generating synthetic data\n"
     ]
    },
    {
     "data": {
      "text/plain": [
       "('../data/mni152_test/sect_info.csv',\n",
       " '../data/mni152_test/chunk_info.csv',\n",
       " '../data/mni152_test/hemi_info.csv')"
      ]
     },
     "execution_count": 1,
     "metadata": {},
     "output_type": "execute_result"
    }
   ],
   "source": [
    "from brainbuilder.tests.generate_synthetic_data import generate_synthetic_data\n",
    "   \n",
    "generate_synthetic_data( \n",
    "    input_fn = '../data/mni_icbm152_01_tal_nlin_asym_09c.nii.gz',\n",
    "    out_dir = '../data/mni152_test',\n",
    "    gm_surf_fn = '../data/MR1_gray_surface_R_81920.surf.gii',\n",
    "    wm_surf_fn = '../data/MR1_white_surface_R_81920.surf.gii',\n",
    "    clobber = True\n",
    "    )"
   ]
  },
  {
   "cell_type": "code",
   "execution_count": null,
   "metadata": {},
   "outputs": [],
   "source": []
  },
  {
   "cell_type": "code",
   "execution_count": 4,
   "metadata": {},
   "outputs": [
    {
     "name": "stdout",
     "output_type": "stream",
     "text": [
      "                                                  raw  sub hemisphere  \\\n",
      "0   ../data/mni152_test/raw_dir//sub-01_chunk-1_sa...    1       both   \n",
      "1   ../data/mni152_test/raw_dir//sub-01_chunk-1_sa...    1       both   \n",
      "2   ../data/mni152_test/raw_dir//sub-01_chunk-1_sa...    1       both   \n",
      "3   ../data/mni152_test/raw_dir//sub-01_chunk-1_sa...    1       both   \n",
      "4   ../data/mni152_test/raw_dir//sub-01_chunk-1_sa...    1       both   \n",
      "5   ../data/mni152_test/raw_dir//sub-01_chunk-1_sa...    1       both   \n",
      "6   ../data/mni152_test/raw_dir//sub-01_chunk-1_sa...    1       both   \n",
      "7   ../data/mni152_test/raw_dir//sub-01_chunk-1_sa...    1       both   \n",
      "8   ../data/mni152_test/raw_dir//sub-01_chunk-1_sa...    1       both   \n",
      "9   ../data/mni152_test/raw_dir//sub-01_chunk-1_sa...    1       both   \n",
      "10  ../data/mni152_test/raw_dir//sub-01_chunk-1_sa...    1       both   \n",
      "11  ../data/mni152_test/raw_dir//sub-01_chunk-1_sa...    1       both   \n",
      "12  ../data/mni152_test/raw_dir//sub-01_chunk-1_sa...    1       both   \n",
      "13  ../data/mni152_test/raw_dir//sub-01_chunk-1_sa...    1       both   \n",
      "14  ../data/mni152_test/raw_dir//sub-01_chunk-1_sa...    1       both   \n",
      "15  ../data/mni152_test/raw_dir//sub-01_chunk-1_sa...    1       both   \n",
      "16  ../data/mni152_test/raw_dir//sub-01_chunk-1_sa...    1       both   \n",
      "17  ../data/mni152_test/raw_dir//sub-01_chunk-1_sa...    1       both   \n",
      "18  ../data/mni152_test/raw_dir//sub-01_chunk-1_sa...    1       both   \n",
      "19  ../data/mni152_test/raw_dir//sub-01_chunk-1_sa...    1       both   \n",
      "20  ../data/mni152_test/raw_dir//sub-01_chunk-1_sa...    1       both   \n",
      "21  ../data/mni152_test/raw_dir//sub-01_chunk-1_sa...    1       both   \n",
      "22  ../data/mni152_test/raw_dir//sub-01_chunk-1_sa...    1       both   \n",
      "23  ../data/mni152_test/raw_dir//sub-01_chunk-1_sa...    1       both   \n",
      "24  ../data/mni152_test/raw_dir//sub-01_chunk-1_sa...    1       both   \n",
      "25  ../data/mni152_test/raw_dir//sub-01_chunk-1_sa...    1       both   \n",
      "26  ../data/mni152_test/raw_dir//sub-01_chunk-1_sa...    1       both   \n",
      "27  ../data/mni152_test/raw_dir//sub-01_chunk-1_sa...    1       both   \n",
      "28  ../data/mni152_test/raw_dir//sub-01_chunk-1_sa...    1       both   \n",
      "29  ../data/mni152_test/raw_dir//sub-01_chunk-1_sa...    1       both   \n",
      "30  ../data/mni152_test/raw_dir//sub-01_chunk-1_sa...    1       both   \n",
      "31  ../data/mni152_test/raw_dir//sub-01_chunk-1_sa...    1       both   \n",
      "32  ../data/mni152_test/raw_dir//sub-01_chunk-1_sa...    1       both   \n",
      "33  ../data/mni152_test/raw_dir//sub-01_chunk-1_sa...    1       both   \n",
      "34  ../data/mni152_test/raw_dir//sub-01_chunk-1_sa...    1       both   \n",
      "35  ../data/mni152_test/raw_dir//sub-01_chunk-1_sa...    1       both   \n",
      "36  ../data/mni152_test/raw_dir//sub-01_chunk-1_sa...    1       both   \n",
      "37  ../data/mni152_test/raw_dir//sub-01_chunk-1_sa...    1       both   \n",
      "38  ../data/mni152_test/raw_dir//sub-01_chunk-1_sa...    1       both   \n",
      "39  ../data/mni152_test/raw_dir//sub-01_chunk-1_sa...    1       both   \n",
      "40  ../data/mni152_test/raw_dir//sub-01_chunk-1_sa...    1       both   \n",
      "41  ../data/mni152_test/raw_dir//sub-01_chunk-1_sa...    1       both   \n",
      "42  ../data/mni152_test/raw_dir//sub-01_chunk-1_sa...    1       both   \n",
      "43  ../data/mni152_test/raw_dir//sub-01_chunk-1_sa...    1       both   \n",
      "44  ../data/mni152_test/raw_dir//sub-01_chunk-1_sa...    1       both   \n",
      "\n",
      "   acquisition  sample  chunk  \n",
      "0        synth      28      1  \n",
      "1        synth      32      1  \n",
      "2        synth      36      1  \n",
      "3        synth      40      1  \n",
      "4        synth      44      1  \n",
      "5        synth      48      1  \n",
      "6        synth      52      1  \n",
      "7        synth      56      1  \n",
      "8        synth      60      1  \n",
      "9        synth      64      1  \n",
      "10       synth      68      1  \n",
      "11       synth      72      1  \n",
      "12       synth      76      1  \n",
      "13       synth      80      1  \n",
      "14       synth      84      1  \n",
      "15       synth      88      1  \n",
      "16       synth      92      1  \n",
      "17       synth      96      1  \n",
      "18       synth     100      1  \n",
      "19       synth     104      1  \n",
      "20       synth     108      1  \n",
      "21       synth     112      1  \n",
      "22       synth     116      1  \n",
      "23       synth     120      1  \n",
      "24       synth     124      1  \n",
      "25       synth     128      1  \n",
      "26       synth     132      1  \n",
      "27       synth     136      1  \n",
      "28       synth     140      1  \n",
      "29       synth     144      1  \n",
      "30       synth     148      1  \n",
      "31       synth     152      1  \n",
      "32       synth     156      1  \n",
      "33       synth     160      1  \n",
      "34       synth     164      1  \n",
      "35       synth     168      1  \n",
      "36       synth     172      1  \n",
      "37       synth     176      1  \n",
      "38       synth     180      1  \n",
      "39       synth     184      1  \n",
      "40       synth     188      1  \n",
      "41       synth     192      1  \n",
      "42       synth     196      1  \n",
      "43       synth     200      1  \n",
      "44       synth     204      1  \n",
      "   sub  chunk hemisphere  pixel_size_0  pixel_size_1  section_thickness  \\\n",
      "0    1      1       both          0.25          0.25               0.25   \n",
      "\n",
      "           direction  \n",
      "0  caudal_to_rostral  \n",
      "   sub hemisphere                                   struct_ref_vol  \\\n",
      "0    1       both  ../data/mni_icbm152_01_tal_nlin_asym_09c.nii.gz   \n",
      "\n",
      "                                     gm_surf  \\\n",
      "0  ../data/MR1_gray_surface_R_81920.surf.gii   \n",
      "\n",
      "                                      wm_surf  \n",
      "0  ../data/MR1_white_surface_R_81920.surf.gii  \n"
     ]
    }
   ],
   "source": [
    "import pandas as pd\n",
    "\n",
    "sect_info_csv = \"../data/mni152_test/sect_info.csv\"\n",
    "chunk_info_csv = \"../data/mni152_test/chunk_info.csv\"\n",
    "hemi_info_csv = \"../data/mni152_test/hemi_info.csv\"\n",
    "\n",
    "# Load the sect_info csv and visualize contents. Stores section-wise information\n",
    "print('Sect Info:')\n",
    "sect_info_df = pd.read_csv(sect_info_csv)\n",
    "print(sect_info_df)\n",
    "\n",
    "# Load the chunk_info csv and visualize contents. Stores chunk-wise information\n",
    "print('Chunk Info:')\n",
    "chunk_info_df = pd.read_csv(chunk_info_csv)\n",
    "print(chunk_info_df)\n",
    "\n",
    "# Load the hemi_info csv and visualize contents. Stores hemispheric information\n",
    "print('Hemi Info:')\n",
    "hemi_info_df = pd.read_csv(hemi_info_csv)\n",
    "print(hemi_info_df)\n",
    "\n"
   ]
  },
  {
   "cell_type": "code",
   "execution_count": null,
   "metadata": {},
   "outputs": [],
   "source": [
    "\n",
    "from brainbuilder.reconstruct import reconstruct    \n",
    "\n",
    "resolution_list = [4, 3, 2, 1]\n",
    "\n",
    "df = reconstruct(\n",
    "        sect_info_csv,\n",
    "        chunk_info_csv,\n",
    "        hemi_info_csv,\n",
    "        [4, 3, 2, 1],\n",
    "        \"tests/data/mni152_test_output/\",\n",
    "        clobber=True,\n",
    "    )\n",
    "\n"
   ]
  },
  {
   "cell_type": "code",
   "execution_count": null,
   "metadata": {},
   "outputs": [],
   "source": [
    "# Visualize results\n",
    "\n"
   ]
  }
 ],
 "metadata": {
  "kernelspec": {
   "display_name": "myenv",
   "language": "python",
   "name": "python3"
  },
  "language_info": {
   "codemirror_mode": {
    "name": "ipython",
    "version": 3
   },
   "file_extension": ".py",
   "mimetype": "text/x-python",
   "name": "python",
   "nbconvert_exporter": "python",
   "pygments_lexer": "ipython3",
   "version": "3.11.8"
  }
 },
 "nbformat": 4,
 "nbformat_minor": 2
}
