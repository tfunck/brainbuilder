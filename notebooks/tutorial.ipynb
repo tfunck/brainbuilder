{
 "cells": [
  {
   "cell_type": "code",
   "execution_count": 5,
   "metadata": {},
   "outputs": [
    {
     "name": "stdout",
     "output_type": "stream",
     "text": [
      "Generating synthetic data\n"
     ]
    },
    {
     "data": {
      "text/plain": [
       "('../data/mni152_test/sect_info.csv',\n",
       " '../data/mni152_test/chunk_info.csv',\n",
       " '../data/mni152_test/hemi_info.csv')"
      ]
     },
     "execution_count": 5,
     "metadata": {},
     "output_type": "execute_result"
    }
   ],
   "source": [
    "from brainbuilder.tests.generate_synthetic_data import generate_synthetic_data\n",
    "   \n",
    "generate_synthetic_data( \n",
    "    input_fn = '../data/mni_icbm152_01_tal_nlin_asym_09c.nii.gz',\n",
    "    out_dir = '../data/mni152_test',\n",
    "    gm_surf_fn = '../data/MR1_gray_surface_R_81920.surf.gii',\n",
    "    wm_surf_fn = '../data/MR1_white_surface_R_81920.surf.gii',\n",
    "    clobber = True\n",
    "    )"
   ]
  },
  {
   "cell_type": "code",
   "execution_count": null,
   "metadata": {},
   "outputs": [],
   "source": []
  },
  {
   "cell_type": "code",
   "execution_count": 1,
   "metadata": {},
   "outputs": [
    {
     "name": "stdout",
     "output_type": "stream",
     "text": [
      "Sect Info:\n",
      "                                                  raw  sub hemisphere  \\\n",
      "0   ../data/mni152_test/raw_dir//sub-01_chunk-1_sa...    1       both   \n",
      "1   ../data/mni152_test/raw_dir//sub-01_chunk-1_sa...    1       both   \n",
      "2   ../data/mni152_test/raw_dir//sub-01_chunk-1_sa...    1       both   \n",
      "3   ../data/mni152_test/raw_dir//sub-01_chunk-1_sa...    1       both   \n",
      "4   ../data/mni152_test/raw_dir//sub-01_chunk-1_sa...    1       both   \n",
      "5   ../data/mni152_test/raw_dir//sub-01_chunk-1_sa...    1       both   \n",
      "6   ../data/mni152_test/raw_dir//sub-01_chunk-1_sa...    1       both   \n",
      "7   ../data/mni152_test/raw_dir//sub-01_chunk-1_sa...    1       both   \n",
      "8   ../data/mni152_test/raw_dir//sub-01_chunk-1_sa...    1       both   \n",
      "9   ../data/mni152_test/raw_dir//sub-01_chunk-1_sa...    1       both   \n",
      "10  ../data/mni152_test/raw_dir//sub-01_chunk-1_sa...    1       both   \n",
      "11  ../data/mni152_test/raw_dir//sub-01_chunk-1_sa...    1       both   \n",
      "12  ../data/mni152_test/raw_dir//sub-01_chunk-1_sa...    1       both   \n",
      "13  ../data/mni152_test/raw_dir//sub-01_chunk-1_sa...    1       both   \n",
      "14  ../data/mni152_test/raw_dir//sub-01_chunk-1_sa...    1       both   \n",
      "15  ../data/mni152_test/raw_dir//sub-01_chunk-1_sa...    1       both   \n",
      "16  ../data/mni152_test/raw_dir//sub-01_chunk-1_sa...    1       both   \n",
      "17  ../data/mni152_test/raw_dir//sub-01_chunk-1_sa...    1       both   \n",
      "18  ../data/mni152_test/raw_dir//sub-01_chunk-1_sa...    1       both   \n",
      "19  ../data/mni152_test/raw_dir//sub-01_chunk-1_sa...    1       both   \n",
      "20  ../data/mni152_test/raw_dir//sub-01_chunk-1_sa...    1       both   \n",
      "21  ../data/mni152_test/raw_dir//sub-01_chunk-1_sa...    1       both   \n",
      "22  ../data/mni152_test/raw_dir//sub-01_chunk-1_sa...    1       both   \n",
      "23  ../data/mni152_test/raw_dir//sub-01_chunk-1_sa...    1       both   \n",
      "24  ../data/mni152_test/raw_dir//sub-01_chunk-1_sa...    1       both   \n",
      "25  ../data/mni152_test/raw_dir//sub-01_chunk-1_sa...    1       both   \n",
      "26  ../data/mni152_test/raw_dir//sub-01_chunk-1_sa...    1       both   \n",
      "27  ../data/mni152_test/raw_dir//sub-01_chunk-1_sa...    1       both   \n",
      "28  ../data/mni152_test/raw_dir//sub-01_chunk-1_sa...    1       both   \n",
      "29  ../data/mni152_test/raw_dir//sub-01_chunk-1_sa...    1       both   \n",
      "30  ../data/mni152_test/raw_dir//sub-01_chunk-1_sa...    1       both   \n",
      "31  ../data/mni152_test/raw_dir//sub-01_chunk-1_sa...    1       both   \n",
      "32  ../data/mni152_test/raw_dir//sub-01_chunk-1_sa...    1       both   \n",
      "33  ../data/mni152_test/raw_dir//sub-01_chunk-1_sa...    1       both   \n",
      "34  ../data/mni152_test/raw_dir//sub-01_chunk-1_sa...    1       both   \n",
      "35  ../data/mni152_test/raw_dir//sub-01_chunk-1_sa...    1       both   \n",
      "36  ../data/mni152_test/raw_dir//sub-01_chunk-1_sa...    1       both   \n",
      "37  ../data/mni152_test/raw_dir//sub-01_chunk-1_sa...    1       both   \n",
      "38  ../data/mni152_test/raw_dir//sub-01_chunk-1_sa...    1       both   \n",
      "39  ../data/mni152_test/raw_dir//sub-01_chunk-1_sa...    1       both   \n",
      "40  ../data/mni152_test/raw_dir//sub-01_chunk-1_sa...    1       both   \n",
      "41  ../data/mni152_test/raw_dir//sub-01_chunk-1_sa...    1       both   \n",
      "42  ../data/mni152_test/raw_dir//sub-01_chunk-1_sa...    1       both   \n",
      "43  ../data/mni152_test/raw_dir//sub-01_chunk-1_sa...    1       both   \n",
      "44  ../data/mni152_test/raw_dir//sub-01_chunk-1_sa...    1       both   \n",
      "\n",
      "   acquisition  sample  chunk  \n",
      "0        synth      28      1  \n",
      "1        synth      32      1  \n",
      "2        synth      36      1  \n",
      "3        synth      40      1  \n",
      "4        synth      44      1  \n",
      "5        synth      48      1  \n",
      "6        synth      52      1  \n",
      "7        synth      56      1  \n",
      "8        synth      60      1  \n",
      "9        synth      64      1  \n",
      "10       synth      68      1  \n",
      "11       synth      72      1  \n",
      "12       synth      76      1  \n",
      "13       synth      80      1  \n",
      "14       synth      84      1  \n",
      "15       synth      88      1  \n",
      "16       synth      92      1  \n",
      "17       synth      96      1  \n",
      "18       synth     100      1  \n",
      "19       synth     104      1  \n",
      "20       synth     108      1  \n",
      "21       synth     112      1  \n",
      "22       synth     116      1  \n",
      "23       synth     120      1  \n",
      "24       synth     124      1  \n",
      "25       synth     128      1  \n",
      "26       synth     132      1  \n",
      "27       synth     136      1  \n",
      "28       synth     140      1  \n",
      "29       synth     144      1  \n",
      "30       synth     148      1  \n",
      "31       synth     152      1  \n",
      "32       synth     156      1  \n",
      "33       synth     160      1  \n",
      "34       synth     164      1  \n",
      "35       synth     168      1  \n",
      "36       synth     172      1  \n",
      "37       synth     176      1  \n",
      "38       synth     180      1  \n",
      "39       synth     184      1  \n",
      "40       synth     188      1  \n",
      "41       synth     192      1  \n",
      "42       synth     196      1  \n",
      "43       synth     200      1  \n",
      "44       synth     204      1  \n",
      "Chunk Info:\n",
      "   sub  chunk hemisphere  pixel_size_0  pixel_size_1  section_thickness  \\\n",
      "0    1      1       both          0.25          0.25               0.25   \n",
      "\n",
      "           direction  \n",
      "0  caudal_to_rostral  \n",
      "Hemi Info:\n",
      "   sub hemisphere                                   struct_ref_vol  \\\n",
      "0    1       both  ../data/mni_icbm152_01_tal_nlin_asym_09c.nii.gz   \n",
      "\n",
      "                                     gm_surf  \\\n",
      "0  ../data/MR1_gray_surface_R_81920.surf.gii   \n",
      "\n",
      "                                      wm_surf  \n",
      "0  ../data/MR1_white_surface_R_81920.surf.gii  \n"
     ]
    }
   ],
   "source": [
    "import pandas as pd\n",
    "\n",
    "sect_info_csv = \"../data/mni152_test/sect_info.csv\"\n",
    "chunk_info_csv = \"../data/mni152_test/chunk_info.csv\"\n",
    "hemi_info_csv = \"../data/mni152_test/hemi_info.csv\"\n",
    "\n",
    "# Load the sect_info csv and visualize contents. Stores section-wise information\n",
    "print('Sect Info:')\n",
    "sect_info_df = pd.read_csv(sect_info_csv)\n",
    "print(sect_info_df)\n",
    "\n",
    "# Load the chunk_info csv and visualize contents. Stores chunk-wise information\n",
    "print('Chunk Info:')\n",
    "chunk_info_df = pd.read_csv(chunk_info_csv)\n",
    "print(chunk_info_df)\n",
    "\n",
    "# Load the hemi_info csv and visualize contents. Stores hemispheric information\n",
    "print('Hemi Info:')\n",
    "hemi_info_df = pd.read_csv(hemi_info_csv)\n",
    "print(hemi_info_df)\n",
    "\n"
   ]
  },
  {
   "cell_type": "code",
   "execution_count": 2,
   "metadata": {},
   "outputs": [
    {
     "name": "stdout",
     "output_type": "stream",
     "text": [
      "Reconstructing 2D sections to 3D volume\n",
      "\tInput files:\n",
      "\t\tHemisphere info: ../data/mni152_test/sect_info.csv\n",
      "\t\tChunk info: ../data/mni152_test/chunk_info.csv\n",
      "\t\tSection info: ../data/mni152_test/hemi_info.csv\n",
      "\t\tResolution list: [4, 3, 2, 1]\n",
      "\tOutput directories:\n",
      "\t\tDownsample: tests/data/mni152_test_output//0_downsample/\n",
      "\t\tSegment: tests/data/mni152_test_output//1_seg/\n",
      "\t\tInitial alignment: tests/data/mni152_test_output//2_init_align/\n",
      "\t\tMultiresolution alignment: tests/data/mni152_test_output//3_multires_align/\n",
      "\t\tInterpolation: tests/data/mni152_test_output//4_interp/\n",
      "\t\tQuality control: tests/data/mni152_test_output//qc/\n"
     ]
    },
    {
     "ename": "KeyError",
     "evalue": "'raw'",
     "output_type": "error",
     "traceback": [
      "\u001b[0;31m---------------------------------------------------------------------------\u001b[0m",
      "\u001b[0;31mKeyError\u001b[0m                                  Traceback (most recent call last)",
      "File \u001b[0;32m~/anaconda3/envs/myenv/lib/python3.11/site-packages/pandas/core/indexes/base.py:3805\u001b[0m, in \u001b[0;36mIndex.get_loc\u001b[0;34m(self, key)\u001b[0m\n\u001b[1;32m   3804\u001b[0m \u001b[38;5;28;01mtry\u001b[39;00m:\n\u001b[0;32m-> 3805\u001b[0m     \u001b[38;5;28;01mreturn\u001b[39;00m \u001b[38;5;28;43mself\u001b[39;49m\u001b[38;5;241;43m.\u001b[39;49m\u001b[43m_engine\u001b[49m\u001b[38;5;241;43m.\u001b[39;49m\u001b[43mget_loc\u001b[49m\u001b[43m(\u001b[49m\u001b[43mcasted_key\u001b[49m\u001b[43m)\u001b[49m\n\u001b[1;32m   3806\u001b[0m \u001b[38;5;28;01mexcept\u001b[39;00m \u001b[38;5;167;01mKeyError\u001b[39;00m \u001b[38;5;28;01mas\u001b[39;00m err:\n",
      "File \u001b[0;32mindex.pyx:167\u001b[0m, in \u001b[0;36mpandas._libs.index.IndexEngine.get_loc\u001b[0;34m()\u001b[0m\n",
      "File \u001b[0;32mindex.pyx:196\u001b[0m, in \u001b[0;36mpandas._libs.index.IndexEngine.get_loc\u001b[0;34m()\u001b[0m\n",
      "File \u001b[0;32mpandas/_libs/hashtable_class_helper.pxi:7081\u001b[0m, in \u001b[0;36mpandas._libs.hashtable.PyObjectHashTable.get_item\u001b[0;34m()\u001b[0m\n",
      "File \u001b[0;32mpandas/_libs/hashtable_class_helper.pxi:7089\u001b[0m, in \u001b[0;36mpandas._libs.hashtable.PyObjectHashTable.get_item\u001b[0;34m()\u001b[0m\n",
      "\u001b[0;31mKeyError\u001b[0m: 'raw'",
      "\nThe above exception was the direct cause of the following exception:\n",
      "\u001b[0;31mKeyError\u001b[0m                                  Traceback (most recent call last)",
      "Cell \u001b[0;32mIn[2], line 5\u001b[0m\n\u001b[1;32m      1\u001b[0m \u001b[38;5;28;01mfrom\u001b[39;00m \u001b[38;5;21;01mbrainbuilder\u001b[39;00m\u001b[38;5;21;01m.\u001b[39;00m\u001b[38;5;21;01mreconstruct\u001b[39;00m \u001b[38;5;28;01mimport\u001b[39;00m reconstruct    \n\u001b[1;32m      3\u001b[0m resolution_list \u001b[38;5;241m=\u001b[39m [\u001b[38;5;241m4\u001b[39m, \u001b[38;5;241m3\u001b[39m, \u001b[38;5;241m2\u001b[39m, \u001b[38;5;241m1\u001b[39m]\n\u001b[0;32m----> 5\u001b[0m df \u001b[38;5;241m=\u001b[39m \u001b[43mreconstruct\u001b[49m\u001b[43m(\u001b[49m\n\u001b[1;32m      6\u001b[0m \u001b[43m        \u001b[49m\u001b[43msect_info_csv\u001b[49m\u001b[43m,\u001b[49m\n\u001b[1;32m      7\u001b[0m \u001b[43m        \u001b[49m\u001b[43mchunk_info_csv\u001b[49m\u001b[43m,\u001b[49m\n\u001b[1;32m      8\u001b[0m \u001b[43m        \u001b[49m\u001b[43mhemi_info_csv\u001b[49m\u001b[43m,\u001b[49m\n\u001b[1;32m      9\u001b[0m \u001b[43m        \u001b[49m\u001b[43m[\u001b[49m\u001b[38;5;241;43m4\u001b[39;49m\u001b[43m,\u001b[49m\u001b[43m \u001b[49m\u001b[38;5;241;43m3\u001b[39;49m\u001b[43m,\u001b[49m\u001b[43m \u001b[49m\u001b[38;5;241;43m2\u001b[39;49m\u001b[43m,\u001b[49m\u001b[43m \u001b[49m\u001b[38;5;241;43m1\u001b[39;49m\u001b[43m]\u001b[49m\u001b[43m,\u001b[49m\n\u001b[1;32m     10\u001b[0m \u001b[43m        \u001b[49m\u001b[38;5;124;43m\"\u001b[39;49m\u001b[38;5;124;43mtests/data/mni152_test_output/\u001b[39;49m\u001b[38;5;124;43m\"\u001b[39;49m\u001b[43m,\u001b[49m\n\u001b[1;32m     11\u001b[0m \u001b[43m        \u001b[49m\u001b[43mclobber\u001b[49m\u001b[38;5;241;43m=\u001b[39;49m\u001b[38;5;28;43;01mTrue\u001b[39;49;00m\u001b[43m,\u001b[49m\n\u001b[1;32m     12\u001b[0m \u001b[43m    \u001b[49m\u001b[43m)\u001b[49m\n",
      "File \u001b[0;32m/media/windows/projects/BrainBuilder/brainbuilder/reconstruct.py:122\u001b[0m, in \u001b[0;36mreconstruct\u001b[0;34m(hemi_info_csv, chunk_info_csv, sect_info_csv, resolution_list, output_dir, pytorch_model_dir, interp_type, output_csv, n_depths, use_nnunet, num_cores, surface_smoothing, batch_correction_resolution, skip_interp, clobber)\u001b[0m\n\u001b[1;32m    117\u001b[0m valid_inputs \u001b[38;5;241m=\u001b[39m validate_inputs(\n\u001b[1;32m    118\u001b[0m     hemi_info_csv, chunk_info_csv, sect_info_csv, valid_inputs_npz\n\u001b[1;32m    119\u001b[0m )\n\u001b[1;32m    120\u001b[0m \u001b[38;5;28;01massert\u001b[39;00m valid_inputs, \u001b[38;5;124m\"\u001b[39m\u001b[38;5;124mError: invalid inputs\u001b[39m\u001b[38;5;124m\"\u001b[39m\n\u001b[0;32m--> 122\u001b[0m sect_info_csv \u001b[38;5;241m=\u001b[39m \u001b[43mdownsample_sections\u001b[49m\u001b[43m(\u001b[49m\n\u001b[1;32m    123\u001b[0m \u001b[43m    \u001b[49m\u001b[43mchunk_info_csv\u001b[49m\u001b[43m,\u001b[49m\n\u001b[1;32m    124\u001b[0m \u001b[43m    \u001b[49m\u001b[43msect_info_csv\u001b[49m\u001b[43m,\u001b[49m\n\u001b[1;32m    125\u001b[0m \u001b[43m    \u001b[49m\u001b[38;5;28;43mmin\u001b[39;49m\u001b[43m(\u001b[49m\u001b[43mresolution_list\u001b[49m\u001b[43m)\u001b[49m\u001b[43m,\u001b[49m\n\u001b[1;32m    126\u001b[0m \u001b[43m    \u001b[49m\u001b[43mdownsample_dir\u001b[49m\u001b[43m,\u001b[49m\n\u001b[1;32m    127\u001b[0m \u001b[43m    \u001b[49m\u001b[43mclobber\u001b[49m\u001b[38;5;241;43m=\u001b[39;49m\u001b[43mclobber\u001b[49m\u001b[43m,\u001b[49m\n\u001b[1;32m    128\u001b[0m \u001b[43m\u001b[49m\u001b[43m)\u001b[49m\n\u001b[1;32m    129\u001b[0m \u001b[38;5;28mprint\u001b[39m(sect_info_csv)\n\u001b[1;32m    130\u001b[0m qc\u001b[38;5;241m.\u001b[39mdata_set_quality_control(sect_info_csv, qc_dir, column\u001b[38;5;241m=\u001b[39m\u001b[38;5;124m\"\u001b[39m\u001b[38;5;124mimg\u001b[39m\u001b[38;5;124m\"\u001b[39m)\n",
      "File \u001b[0;32m/media/windows/projects/BrainBuilder/brainbuilder/downsample.py:44\u001b[0m, in \u001b[0;36mdownsample_sections\u001b[0;34m(chunk_info_csv, sect_info_csv, resolution, output_dir, clobber)\u001b[0m\n\u001b[1;32m     41\u001b[0m     \u001b[38;5;28;01mreturn\u001b[39;00m output_dir \u001b[38;5;241m+\u001b[39m \u001b[38;5;124m\"\u001b[39m\u001b[38;5;124m/\u001b[39m\u001b[38;5;124m\"\u001b[39m \u001b[38;5;241m+\u001b[39m x\n\u001b[1;32m     43\u001b[0m \u001b[38;5;66;03m# define downsample img filenames based on current resolution\u001b[39;00m\n\u001b[0;32m---> 44\u001b[0m sect_info[\u001b[38;5;124m\"\u001b[39m\u001b[38;5;124mimg\u001b[39m\u001b[38;5;124m\"\u001b[39m] \u001b[38;5;241m=\u001b[39m \u001b[43msect_info\u001b[49m\u001b[43m[\u001b[49m\u001b[38;5;124;43m\"\u001b[39;49m\u001b[38;5;124;43mraw\u001b[39;49m\u001b[38;5;124;43m\"\u001b[39;49m\u001b[43m]\u001b[49m\u001b[38;5;241m.\u001b[39mapply(get_base)\n\u001b[1;32m     46\u001b[0m os\u001b[38;5;241m.\u001b[39mmakedirs(output_dir, exist_ok\u001b[38;5;241m=\u001b[39m\u001b[38;5;28;01mTrue\u001b[39;00m)\n\u001b[1;32m     48\u001b[0m sect_info_csv \u001b[38;5;241m=\u001b[39m output_dir \u001b[38;5;241m+\u001b[39m \u001b[38;5;124m\"\u001b[39m\u001b[38;5;124m/downsample_sect_info.csv\u001b[39m\u001b[38;5;124m\"\u001b[39m\n",
      "File \u001b[0;32m~/anaconda3/envs/myenv/lib/python3.11/site-packages/pandas/core/frame.py:4102\u001b[0m, in \u001b[0;36mDataFrame.__getitem__\u001b[0;34m(self, key)\u001b[0m\n\u001b[1;32m   4100\u001b[0m \u001b[38;5;28;01mif\u001b[39;00m \u001b[38;5;28mself\u001b[39m\u001b[38;5;241m.\u001b[39mcolumns\u001b[38;5;241m.\u001b[39mnlevels \u001b[38;5;241m>\u001b[39m \u001b[38;5;241m1\u001b[39m:\n\u001b[1;32m   4101\u001b[0m     \u001b[38;5;28;01mreturn\u001b[39;00m \u001b[38;5;28mself\u001b[39m\u001b[38;5;241m.\u001b[39m_getitem_multilevel(key)\n\u001b[0;32m-> 4102\u001b[0m indexer \u001b[38;5;241m=\u001b[39m \u001b[38;5;28;43mself\u001b[39;49m\u001b[38;5;241;43m.\u001b[39;49m\u001b[43mcolumns\u001b[49m\u001b[38;5;241;43m.\u001b[39;49m\u001b[43mget_loc\u001b[49m\u001b[43m(\u001b[49m\u001b[43mkey\u001b[49m\u001b[43m)\u001b[49m\n\u001b[1;32m   4103\u001b[0m \u001b[38;5;28;01mif\u001b[39;00m is_integer(indexer):\n\u001b[1;32m   4104\u001b[0m     indexer \u001b[38;5;241m=\u001b[39m [indexer]\n",
      "File \u001b[0;32m~/anaconda3/envs/myenv/lib/python3.11/site-packages/pandas/core/indexes/base.py:3812\u001b[0m, in \u001b[0;36mIndex.get_loc\u001b[0;34m(self, key)\u001b[0m\n\u001b[1;32m   3807\u001b[0m     \u001b[38;5;28;01mif\u001b[39;00m \u001b[38;5;28misinstance\u001b[39m(casted_key, \u001b[38;5;28mslice\u001b[39m) \u001b[38;5;129;01mor\u001b[39;00m (\n\u001b[1;32m   3808\u001b[0m         \u001b[38;5;28misinstance\u001b[39m(casted_key, abc\u001b[38;5;241m.\u001b[39mIterable)\n\u001b[1;32m   3809\u001b[0m         \u001b[38;5;129;01mand\u001b[39;00m \u001b[38;5;28many\u001b[39m(\u001b[38;5;28misinstance\u001b[39m(x, \u001b[38;5;28mslice\u001b[39m) \u001b[38;5;28;01mfor\u001b[39;00m x \u001b[38;5;129;01min\u001b[39;00m casted_key)\n\u001b[1;32m   3810\u001b[0m     ):\n\u001b[1;32m   3811\u001b[0m         \u001b[38;5;28;01mraise\u001b[39;00m InvalidIndexError(key)\n\u001b[0;32m-> 3812\u001b[0m     \u001b[38;5;28;01mraise\u001b[39;00m \u001b[38;5;167;01mKeyError\u001b[39;00m(key) \u001b[38;5;28;01mfrom\u001b[39;00m \u001b[38;5;21;01merr\u001b[39;00m\n\u001b[1;32m   3813\u001b[0m \u001b[38;5;28;01mexcept\u001b[39;00m \u001b[38;5;167;01mTypeError\u001b[39;00m:\n\u001b[1;32m   3814\u001b[0m     \u001b[38;5;66;03m# If we have a listlike key, _check_indexing_error will raise\u001b[39;00m\n\u001b[1;32m   3815\u001b[0m     \u001b[38;5;66;03m#  InvalidIndexError. Otherwise we fall through and re-raise\u001b[39;00m\n\u001b[1;32m   3816\u001b[0m     \u001b[38;5;66;03m#  the TypeError.\u001b[39;00m\n\u001b[1;32m   3817\u001b[0m     \u001b[38;5;28mself\u001b[39m\u001b[38;5;241m.\u001b[39m_check_indexing_error(key)\n",
      "\u001b[0;31mKeyError\u001b[0m: 'raw'"
     ]
    }
   ],
   "source": [
    "\n",
    "from brainbuilder.reconstruct import reconstruct    \n",
    "\n",
    "resolution_list = [4, 3, 2, 1]\n",
    "\n",
    "df = reconstruct(\n",
    "        sect_info_csv,\n",
    "        chunk_info_csv,\n",
    "        hemi_info_csv,\n",
    "        [4, 3, 2, 1],\n",
    "        \"tests/data/mni152_test_output/\",\n",
    "        clobber=True,\n",
    "    )\n",
    "\n"
   ]
  },
  {
   "cell_type": "code",
   "execution_count": null,
   "metadata": {},
   "outputs": [],
   "source": [
    "# Visualize results\n",
    "\n"
   ]
  }
 ],
 "metadata": {
  "kernelspec": {
   "display_name": "myenv",
   "language": "python",
   "name": "python3"
  },
  "language_info": {
   "codemirror_mode": {
    "name": "ipython",
    "version": 3
   },
   "file_extension": ".py",
   "mimetype": "text/x-python",
   "name": "python",
   "nbconvert_exporter": "python",
   "pygments_lexer": "ipython3",
   "version": "3.11.8"
  }
 },
 "nbformat": 4,
 "nbformat_minor": 2
}
